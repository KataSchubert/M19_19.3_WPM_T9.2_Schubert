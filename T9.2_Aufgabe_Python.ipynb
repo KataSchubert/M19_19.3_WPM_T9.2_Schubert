{
 "cells": [
  {
   "cell_type": "markdown",
   "metadata": {},
   "source": [
    "# Bearbeitung des Checkout-Datensatzes der Seattle Public Library in einem Jupyter Notebook\n",
    "\n",
    "Die Aufgabenstellung sieht vor, die Lösungen zu fünf unterschiedlichen Fragen, die mit den Daten beantwortet werden können, mithilfe von Python zu implementieren. Mindestens drei der Fragestellungen sollten zu einer Grafik führen.\n",
    "\n",
    "Das sind die folgenden fünf Fragen:"
   ]
  },
  {
   "cell_type": "code",
   "execution_count": null,
   "metadata": {},
   "outputs": [],
   "source": []
  }
 ],
 "metadata": {
  "kernelspec": {
   "display_name": "Python 3",
   "language": "python",
   "name": "python3"
  },
  "language_info": {
   "codemirror_mode": {
    "name": "ipython",
    "version": 3
   },
   "file_extension": ".py",
   "mimetype": "text/x-python",
   "name": "python",
   "nbconvert_exporter": "python",
   "pygments_lexer": "ipython3",
   "version": "3.7.6"
  }
 },
 "nbformat": 4,
 "nbformat_minor": 4
}
