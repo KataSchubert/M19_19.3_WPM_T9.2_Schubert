{
 "cells": [
  {
   "cell_type": "markdown",
   "metadata": {},
   "source": [
    "# Bearbeitung des Checkout-Datensatzes der Seattle Public Library in einem Jupyter Notebook\n",
    "\n",
    "Die Aufgabenstellung sieht vor, die Lösungen zu fünf unterschiedlichen Fragen, die mit den Daten beantwortet werden können, mithilfe von Python zu implementieren. Mindestens drei der Fragestellungen sollten zu einer Grafik führen. Ich entscheide mich für die Checkouts des Jahres 2018, setze aber ein Limit von 10.000 Einträgen, so dass hauptsächlich die Daten des Dezembers 2018 genutzt werden.\n",
    "\n",
    "Dies sind die folgenden fünf Fragen:\n",
    "\n",
    "1. Welches Medium wurde im relevanten Zeitraum am häufigsten ausgeliehen?\n",
    "2. Wie verändert sich das Ausleihverhalten im Laufe eines Jahres?\n",
    "3. In welchem Verhältnis wurden analoge und digitale Medien in dem relevanten Zeitraum verliehen?\n",
    "4. Wie sieht die Verteilung in dem relevanten Zeitraum nach \"Materialtype\" aus?\n",
    "5. Wie hoch ist die Zahl der Gesamtausleihen in dem relevanten Zeitraum?"
   ]
  },
  {
   "cell_type": "code",
   "execution_count": 1,
   "metadata": {},
   "outputs": [],
   "source": [
    "# Als ersten Schritt müssen die entsprechenden Libraries importiert werden.\n",
    "\n",
    "import urllib.request\n",
    "import pandas as pd"
   ]
  },
  {
   "cell_type": "code",
   "execution_count": 2,
   "metadata": {},
   "outputs": [],
   "source": [
    "# Anschließend werden zwei neue Variablen definiert.\n",
    "\n",
    "checkouts_url = \"https://data.seattle.gov/resource/tmmm-ytt6.csv?$where=checkoutyear=2018&$limit=10000\"\n",
    "checkouts_file = \"checkouts.csv\""
   ]
  },
  {
   "cell_type": "code",
   "execution_count": 3,
   "metadata": {},
   "outputs": [
    {
     "data": {
      "text/plain": [
       "('checkouts.csv', <http.client.HTTPMessage at 0x2627558dd48>)"
      ]
     },
     "execution_count": 3,
     "metadata": {},
     "output_type": "execute_result"
    }
   ],
   "source": [
    "# Nun müssen die Daten heruntergeladen werden.\n",
    "\n",
    "urllib.request.urlretrieve(checkouts_url, checkouts_file)"
   ]
  },
  {
   "cell_type": "code",
   "execution_count": 4,
   "metadata": {},
   "outputs": [],
   "source": [
    "# Mithilfe von Pandas werden die Daten nun anschaulich dargestellt.\n",
    "\n",
    "checkouts = pd.read_csv(checkouts_file)"
   ]
  },
  {
   "cell_type": "code",
   "execution_count": 5,
   "metadata": {},
   "outputs": [
    {
     "data": {
      "text/html": [
       "<div>\n",
       "<style scoped>\n",
       "    .dataframe tbody tr th:only-of-type {\n",
       "        vertical-align: middle;\n",
       "    }\n",
       "\n",
       "    .dataframe tbody tr th {\n",
       "        vertical-align: top;\n",
       "    }\n",
       "\n",
       "    .dataframe thead th {\n",
       "        text-align: right;\n",
       "    }\n",
       "</style>\n",
       "<table border=\"1\" class=\"dataframe\">\n",
       "  <thead>\n",
       "    <tr style=\"text-align: right;\">\n",
       "      <th></th>\n",
       "      <th>usageclass</th>\n",
       "      <th>checkouttype</th>\n",
       "      <th>materialtype</th>\n",
       "      <th>checkoutyear</th>\n",
       "      <th>checkoutmonth</th>\n",
       "      <th>checkouts</th>\n",
       "      <th>title</th>\n",
       "      <th>creator</th>\n",
       "      <th>subjects</th>\n",
       "      <th>publisher</th>\n",
       "      <th>publicationyear</th>\n",
       "    </tr>\n",
       "  </thead>\n",
       "  <tbody>\n",
       "    <tr>\n",
       "      <th>0</th>\n",
       "      <td>Physical</td>\n",
       "      <td>Horizon</td>\n",
       "      <td>BOOK</td>\n",
       "      <td>2018</td>\n",
       "      <td>12</td>\n",
       "      <td>1</td>\n",
       "      <td>The naked lady who stood on her head : a psych...</td>\n",
       "      <td>Small, Gary, 1951-</td>\n",
       "      <td>Small Gary 1951, Psychiatry Popular works, Psy...</td>\n",
       "      <td>William Morrow,</td>\n",
       "      <td>[2010]</td>\n",
       "    </tr>\n",
       "    <tr>\n",
       "      <th>1</th>\n",
       "      <td>Physical</td>\n",
       "      <td>Horizon</td>\n",
       "      <td>BOOK</td>\n",
       "      <td>2018</td>\n",
       "      <td>12</td>\n",
       "      <td>1</td>\n",
       "      <td>The night of the iguana / by Tennessee Williams.</td>\n",
       "      <td>Williams, Tennessee, 1911-1983</td>\n",
       "      <td>NaN</td>\n",
       "      <td>Dramatists Play Service,</td>\n",
       "      <td>[1991]</td>\n",
       "    </tr>\n",
       "    <tr>\n",
       "      <th>2</th>\n",
       "      <td>Physical</td>\n",
       "      <td>Horizon</td>\n",
       "      <td>SOUNDDISC</td>\n",
       "      <td>2018</td>\n",
       "      <td>12</td>\n",
       "      <td>1</td>\n",
       "      <td>Tender is the night / F. Scott Fitzgerald.</td>\n",
       "      <td>Fitzgerald, F. Scott (Francis Scott), 1896-1940</td>\n",
       "      <td>Psychiatrists Fiction, Wealth Moral and ethica...</td>\n",
       "      <td>Naxos AudioBooks,</td>\n",
       "      <td>[2010]</td>\n",
       "    </tr>\n",
       "    <tr>\n",
       "      <th>3</th>\n",
       "      <td>Physical</td>\n",
       "      <td>Horizon</td>\n",
       "      <td>BOOK</td>\n",
       "      <td>2018</td>\n",
       "      <td>12</td>\n",
       "      <td>1</td>\n",
       "      <td>Be prepared fishing / Henry Gilbey.</td>\n",
       "      <td>Gilbey, Henry</td>\n",
       "      <td>Fishing</td>\n",
       "      <td>DK Pub.,</td>\n",
       "      <td>2008.</td>\n",
       "    </tr>\n",
       "    <tr>\n",
       "      <th>4</th>\n",
       "      <td>Physical</td>\n",
       "      <td>Horizon</td>\n",
       "      <td>BOOK</td>\n",
       "      <td>2018</td>\n",
       "      <td>12</td>\n",
       "      <td>1</td>\n",
       "      <td>What Darwin saw : the journey that changed the...</td>\n",
       "      <td>Schanzer, Rosalyn</td>\n",
       "      <td>Darwin Charles 1809 1882 Juvenile literature, ...</td>\n",
       "      <td>National Geographic,</td>\n",
       "      <td>[2009]</td>\n",
       "    </tr>\n",
       "    <tr>\n",
       "      <th>...</th>\n",
       "      <td>...</td>\n",
       "      <td>...</td>\n",
       "      <td>...</td>\n",
       "      <td>...</td>\n",
       "      <td>...</td>\n",
       "      <td>...</td>\n",
       "      <td>...</td>\n",
       "      <td>...</td>\n",
       "      <td>...</td>\n",
       "      <td>...</td>\n",
       "      <td>...</td>\n",
       "    </tr>\n",
       "    <tr>\n",
       "      <th>9995</th>\n",
       "      <td>Physical</td>\n",
       "      <td>Horizon</td>\n",
       "      <td>BOOK</td>\n",
       "      <td>2018</td>\n",
       "      <td>12</td>\n",
       "      <td>2</td>\n",
       "      <td>My little polar bear / Claudia Rueda.</td>\n",
       "      <td>Rueda, Claudia</td>\n",
       "      <td>Polar bear Juvenile fiction, Bears Juvenile fi...</td>\n",
       "      <td>Scholastic Press,</td>\n",
       "      <td>2009.</td>\n",
       "    </tr>\n",
       "    <tr>\n",
       "      <th>9996</th>\n",
       "      <td>Digital</td>\n",
       "      <td>OverDrive</td>\n",
       "      <td>EBOOK</td>\n",
       "      <td>2018</td>\n",
       "      <td>12</td>\n",
       "      <td>1</td>\n",
       "      <td>Love Over Scotland: 44 Scotland Street Series,...</td>\n",
       "      <td>Alexander McCall Smith</td>\n",
       "      <td>Fiction, Humor (Fiction), Mystery</td>\n",
       "      <td>Random House, Inc.</td>\n",
       "      <td>2009</td>\n",
       "    </tr>\n",
       "    <tr>\n",
       "      <th>9997</th>\n",
       "      <td>Digital</td>\n",
       "      <td>OverDrive</td>\n",
       "      <td>EBOOK</td>\n",
       "      <td>2018</td>\n",
       "      <td>12</td>\n",
       "      <td>2</td>\n",
       "      <td>The India Fan</td>\n",
       "      <td>Victoria Holt</td>\n",
       "      <td>Fiction, Historical Fiction, Romance, Suspense</td>\n",
       "      <td>Sourcebooks</td>\n",
       "      <td>2013</td>\n",
       "    </tr>\n",
       "    <tr>\n",
       "      <th>9998</th>\n",
       "      <td>Physical</td>\n",
       "      <td>Horizon</td>\n",
       "      <td>VIDEODISC</td>\n",
       "      <td>2018</td>\n",
       "      <td>12</td>\n",
       "      <td>5</td>\n",
       "      <td>30 Rock. Season 7, the final season / Universa...</td>\n",
       "      <td>NaN</td>\n",
       "      <td>Rockefeller Center Drama, Television comedy wr...</td>\n",
       "      <td>Universal Studios Home Entertainment,</td>\n",
       "      <td>[2013]</td>\n",
       "    </tr>\n",
       "    <tr>\n",
       "      <th>9999</th>\n",
       "      <td>Physical</td>\n",
       "      <td>Horizon</td>\n",
       "      <td>BOOK</td>\n",
       "      <td>2018</td>\n",
       "      <td>12</td>\n",
       "      <td>1</td>\n",
       "      <td>Michelle Obama : meet the first lady / by Davi...</td>\n",
       "      <td>Brophy, David Bergen</td>\n",
       "      <td>Obama Michelle 1964 Juvenile literature, Obama...</td>\n",
       "      <td>Collins,</td>\n",
       "      <td>[2009]</td>\n",
       "    </tr>\n",
       "  </tbody>\n",
       "</table>\n",
       "<p>10000 rows × 11 columns</p>\n",
       "</div>"
      ],
      "text/plain": [
       "     usageclass checkouttype materialtype  checkoutyear  checkoutmonth  \\\n",
       "0      Physical      Horizon         BOOK          2018             12   \n",
       "1      Physical      Horizon         BOOK          2018             12   \n",
       "2      Physical      Horizon    SOUNDDISC          2018             12   \n",
       "3      Physical      Horizon         BOOK          2018             12   \n",
       "4      Physical      Horizon         BOOK          2018             12   \n",
       "...         ...          ...          ...           ...            ...   \n",
       "9995   Physical      Horizon         BOOK          2018             12   \n",
       "9996    Digital    OverDrive        EBOOK          2018             12   \n",
       "9997    Digital    OverDrive        EBOOK          2018             12   \n",
       "9998   Physical      Horizon    VIDEODISC          2018             12   \n",
       "9999   Physical      Horizon         BOOK          2018             12   \n",
       "\n",
       "      checkouts                                              title  \\\n",
       "0             1  The naked lady who stood on her head : a psych...   \n",
       "1             1   The night of the iguana / by Tennessee Williams.   \n",
       "2             1         Tender is the night / F. Scott Fitzgerald.   \n",
       "3             1                Be prepared fishing / Henry Gilbey.   \n",
       "4             1  What Darwin saw : the journey that changed the...   \n",
       "...         ...                                                ...   \n",
       "9995          2              My little polar bear / Claudia Rueda.   \n",
       "9996          1  Love Over Scotland: 44 Scotland Street Series,...   \n",
       "9997          2                                      The India Fan   \n",
       "9998          5  30 Rock. Season 7, the final season / Universa...   \n",
       "9999          1  Michelle Obama : meet the first lady / by Davi...   \n",
       "\n",
       "                                              creator  \\\n",
       "0                                  Small, Gary, 1951-   \n",
       "1                      Williams, Tennessee, 1911-1983   \n",
       "2     Fitzgerald, F. Scott (Francis Scott), 1896-1940   \n",
       "3                                       Gilbey, Henry   \n",
       "4                                   Schanzer, Rosalyn   \n",
       "...                                               ...   \n",
       "9995                                   Rueda, Claudia   \n",
       "9996                           Alexander McCall Smith   \n",
       "9997                                    Victoria Holt   \n",
       "9998                                              NaN   \n",
       "9999                             Brophy, David Bergen   \n",
       "\n",
       "                                               subjects  \\\n",
       "0     Small Gary 1951, Psychiatry Popular works, Psy...   \n",
       "1                                                   NaN   \n",
       "2     Psychiatrists Fiction, Wealth Moral and ethica...   \n",
       "3                                               Fishing   \n",
       "4     Darwin Charles 1809 1882 Juvenile literature, ...   \n",
       "...                                                 ...   \n",
       "9995  Polar bear Juvenile fiction, Bears Juvenile fi...   \n",
       "9996                  Fiction, Humor (Fiction), Mystery   \n",
       "9997     Fiction, Historical Fiction, Romance, Suspense   \n",
       "9998  Rockefeller Center Drama, Television comedy wr...   \n",
       "9999  Obama Michelle 1964 Juvenile literature, Obama...   \n",
       "\n",
       "                                  publisher publicationyear  \n",
       "0                           William Morrow,          [2010]  \n",
       "1                  Dramatists Play Service,          [1991]  \n",
       "2                         Naxos AudioBooks,          [2010]  \n",
       "3                                  DK Pub.,           2008.  \n",
       "4                      National Geographic,          [2009]  \n",
       "...                                     ...             ...  \n",
       "9995                      Scholastic Press,           2009.  \n",
       "9996                     Random House, Inc.            2009  \n",
       "9997                            Sourcebooks            2013  \n",
       "9998  Universal Studios Home Entertainment,          [2013]  \n",
       "9999                               Collins,          [2009]  \n",
       "\n",
       "[10000 rows x 11 columns]"
      ]
     },
     "execution_count": 5,
     "metadata": {},
     "output_type": "execute_result"
    }
   ],
   "source": [
    "# Jetzt können die Daten angezeigt werden.\n",
    "\n",
    "checkouts"
   ]
  },
  {
   "cell_type": "code",
   "execution_count": 6,
   "metadata": {},
   "outputs": [
    {
     "data": {
      "text/html": [
       "<div>\n",
       "<style scoped>\n",
       "    .dataframe tbody tr th:only-of-type {\n",
       "        vertical-align: middle;\n",
       "    }\n",
       "\n",
       "    .dataframe tbody tr th {\n",
       "        vertical-align: top;\n",
       "    }\n",
       "\n",
       "    .dataframe thead th {\n",
       "        text-align: right;\n",
       "    }\n",
       "</style>\n",
       "<table border=\"1\" class=\"dataframe\">\n",
       "  <thead>\n",
       "    <tr style=\"text-align: right;\">\n",
       "      <th></th>\n",
       "      <th>usageclass</th>\n",
       "      <th>materialtype</th>\n",
       "      <th>checkoutmonth</th>\n",
       "      <th>checkouts</th>\n",
       "      <th>title</th>\n",
       "      <th>creator</th>\n",
       "      <th>publisher</th>\n",
       "    </tr>\n",
       "  </thead>\n",
       "  <tbody>\n",
       "    <tr>\n",
       "      <th>0</th>\n",
       "      <td>Physical</td>\n",
       "      <td>BOOK</td>\n",
       "      <td>12</td>\n",
       "      <td>1</td>\n",
       "      <td>The naked lady who stood on her head : a psych...</td>\n",
       "      <td>Small, Gary, 1951-</td>\n",
       "      <td>William Morrow,</td>\n",
       "    </tr>\n",
       "    <tr>\n",
       "      <th>1</th>\n",
       "      <td>Physical</td>\n",
       "      <td>BOOK</td>\n",
       "      <td>12</td>\n",
       "      <td>1</td>\n",
       "      <td>The night of the iguana / by Tennessee Williams.</td>\n",
       "      <td>Williams, Tennessee, 1911-1983</td>\n",
       "      <td>Dramatists Play Service,</td>\n",
       "    </tr>\n",
       "    <tr>\n",
       "      <th>2</th>\n",
       "      <td>Physical</td>\n",
       "      <td>SOUNDDISC</td>\n",
       "      <td>12</td>\n",
       "      <td>1</td>\n",
       "      <td>Tender is the night / F. Scott Fitzgerald.</td>\n",
       "      <td>Fitzgerald, F. Scott (Francis Scott), 1896-1940</td>\n",
       "      <td>Naxos AudioBooks,</td>\n",
       "    </tr>\n",
       "    <tr>\n",
       "      <th>3</th>\n",
       "      <td>Physical</td>\n",
       "      <td>BOOK</td>\n",
       "      <td>12</td>\n",
       "      <td>1</td>\n",
       "      <td>Be prepared fishing / Henry Gilbey.</td>\n",
       "      <td>Gilbey, Henry</td>\n",
       "      <td>DK Pub.,</td>\n",
       "    </tr>\n",
       "    <tr>\n",
       "      <th>4</th>\n",
       "      <td>Physical</td>\n",
       "      <td>BOOK</td>\n",
       "      <td>12</td>\n",
       "      <td>1</td>\n",
       "      <td>What Darwin saw : the journey that changed the...</td>\n",
       "      <td>Schanzer, Rosalyn</td>\n",
       "      <td>National Geographic,</td>\n",
       "    </tr>\n",
       "    <tr>\n",
       "      <th>...</th>\n",
       "      <td>...</td>\n",
       "      <td>...</td>\n",
       "      <td>...</td>\n",
       "      <td>...</td>\n",
       "      <td>...</td>\n",
       "      <td>...</td>\n",
       "      <td>...</td>\n",
       "    </tr>\n",
       "    <tr>\n",
       "      <th>9995</th>\n",
       "      <td>Physical</td>\n",
       "      <td>BOOK</td>\n",
       "      <td>12</td>\n",
       "      <td>2</td>\n",
       "      <td>My little polar bear / Claudia Rueda.</td>\n",
       "      <td>Rueda, Claudia</td>\n",
       "      <td>Scholastic Press,</td>\n",
       "    </tr>\n",
       "    <tr>\n",
       "      <th>9996</th>\n",
       "      <td>Digital</td>\n",
       "      <td>EBOOK</td>\n",
       "      <td>12</td>\n",
       "      <td>1</td>\n",
       "      <td>Love Over Scotland: 44 Scotland Street Series,...</td>\n",
       "      <td>Alexander McCall Smith</td>\n",
       "      <td>Random House, Inc.</td>\n",
       "    </tr>\n",
       "    <tr>\n",
       "      <th>9997</th>\n",
       "      <td>Digital</td>\n",
       "      <td>EBOOK</td>\n",
       "      <td>12</td>\n",
       "      <td>2</td>\n",
       "      <td>The India Fan</td>\n",
       "      <td>Victoria Holt</td>\n",
       "      <td>Sourcebooks</td>\n",
       "    </tr>\n",
       "    <tr>\n",
       "      <th>9998</th>\n",
       "      <td>Physical</td>\n",
       "      <td>VIDEODISC</td>\n",
       "      <td>12</td>\n",
       "      <td>5</td>\n",
       "      <td>30 Rock. Season 7, the final season / Universa...</td>\n",
       "      <td>NaN</td>\n",
       "      <td>Universal Studios Home Entertainment,</td>\n",
       "    </tr>\n",
       "    <tr>\n",
       "      <th>9999</th>\n",
       "      <td>Physical</td>\n",
       "      <td>BOOK</td>\n",
       "      <td>12</td>\n",
       "      <td>1</td>\n",
       "      <td>Michelle Obama : meet the first lady / by Davi...</td>\n",
       "      <td>Brophy, David Bergen</td>\n",
       "      <td>Collins,</td>\n",
       "    </tr>\n",
       "  </tbody>\n",
       "</table>\n",
       "<p>10000 rows × 7 columns</p>\n",
       "</div>"
      ],
      "text/plain": [
       "     usageclass materialtype  checkoutmonth  checkouts  \\\n",
       "0      Physical         BOOK             12          1   \n",
       "1      Physical         BOOK             12          1   \n",
       "2      Physical    SOUNDDISC             12          1   \n",
       "3      Physical         BOOK             12          1   \n",
       "4      Physical         BOOK             12          1   \n",
       "...         ...          ...            ...        ...   \n",
       "9995   Physical         BOOK             12          2   \n",
       "9996    Digital        EBOOK             12          1   \n",
       "9997    Digital        EBOOK             12          2   \n",
       "9998   Physical    VIDEODISC             12          5   \n",
       "9999   Physical         BOOK             12          1   \n",
       "\n",
       "                                                  title  \\\n",
       "0     The naked lady who stood on her head : a psych...   \n",
       "1      The night of the iguana / by Tennessee Williams.   \n",
       "2            Tender is the night / F. Scott Fitzgerald.   \n",
       "3                   Be prepared fishing / Henry Gilbey.   \n",
       "4     What Darwin saw : the journey that changed the...   \n",
       "...                                                 ...   \n",
       "9995              My little polar bear / Claudia Rueda.   \n",
       "9996  Love Over Scotland: 44 Scotland Street Series,...   \n",
       "9997                                      The India Fan   \n",
       "9998  30 Rock. Season 7, the final season / Universa...   \n",
       "9999  Michelle Obama : meet the first lady / by Davi...   \n",
       "\n",
       "                                              creator  \\\n",
       "0                                  Small, Gary, 1951-   \n",
       "1                      Williams, Tennessee, 1911-1983   \n",
       "2     Fitzgerald, F. Scott (Francis Scott), 1896-1940   \n",
       "3                                       Gilbey, Henry   \n",
       "4                                   Schanzer, Rosalyn   \n",
       "...                                               ...   \n",
       "9995                                   Rueda, Claudia   \n",
       "9996                           Alexander McCall Smith   \n",
       "9997                                    Victoria Holt   \n",
       "9998                                              NaN   \n",
       "9999                             Brophy, David Bergen   \n",
       "\n",
       "                                  publisher  \n",
       "0                           William Morrow,  \n",
       "1                  Dramatists Play Service,  \n",
       "2                         Naxos AudioBooks,  \n",
       "3                                  DK Pub.,  \n",
       "4                      National Geographic,  \n",
       "...                                     ...  \n",
       "9995                      Scholastic Press,  \n",
       "9996                     Random House, Inc.  \n",
       "9997                            Sourcebooks  \n",
       "9998  Universal Studios Home Entertainment,  \n",
       "9999                               Collins,  \n",
       "\n",
       "[10000 rows x 7 columns]"
      ]
     },
     "execution_count": 6,
     "metadata": {},
     "output_type": "execute_result"
    }
   ],
   "source": [
    "# Da ich nicht alle Spalten für meine Auswertung benötige, lasse ich nun nur die für mich relevanten Spalten anzeigen. So wird es übersichtlicher.\n",
    "\n",
    "checkouts[[\"usageclass\", \"materialtype\", \"checkoutmonth\", \"checkouts\", \"title\", \"creator\", \"publisher\"]]"
   ]
  },
  {
   "cell_type": "markdown",
   "metadata": {},
   "source": [
    "## 1. Frage: Welches Medium wurde im relevanten Zeitraum am häufigsten ausgeliehen?"
   ]
  },
  {
   "cell_type": "code",
   "execution_count": 7,
   "metadata": {},
   "outputs": [
    {
     "data": {
      "text/plain": [
       "0       False\n",
       "1       False\n",
       "2       False\n",
       "3       False\n",
       "4       False\n",
       "        ...  \n",
       "9995    False\n",
       "9996    False\n",
       "9997    False\n",
       "9998    False\n",
       "9999    False\n",
       "Name: checkouts, Length: 10000, dtype: bool"
      ]
     },
     "execution_count": 7,
     "metadata": {},
     "output_type": "execute_result"
    }
   ],
   "source": [
    "# Dafür frage ich zunächst ab, wie viele Medien überhaupt über 300 mal ausgeliehen wurden, um eine erste Einschätzung zu erlangen. \n",
    "# Dies geschieht mithilfe einer Liste und folgendem Befehl:\n",
    "\n",
    "checkouts[\"checkouts\"] >= 300"
   ]
  },
  {
   "cell_type": "code",
   "execution_count": 8,
   "metadata": {},
   "outputs": [
    {
     "data": {
      "text/html": [
       "<div>\n",
       "<style scoped>\n",
       "    .dataframe tbody tr th:only-of-type {\n",
       "        vertical-align: middle;\n",
       "    }\n",
       "\n",
       "    .dataframe tbody tr th {\n",
       "        vertical-align: top;\n",
       "    }\n",
       "\n",
       "    .dataframe thead th {\n",
       "        text-align: right;\n",
       "    }\n",
       "</style>\n",
       "<table border=\"1\" class=\"dataframe\">\n",
       "  <thead>\n",
       "    <tr style=\"text-align: right;\">\n",
       "      <th></th>\n",
       "      <th>usageclass</th>\n",
       "      <th>checkouttype</th>\n",
       "      <th>materialtype</th>\n",
       "      <th>checkoutyear</th>\n",
       "      <th>checkoutmonth</th>\n",
       "      <th>checkouts</th>\n",
       "      <th>title</th>\n",
       "      <th>creator</th>\n",
       "      <th>subjects</th>\n",
       "      <th>publisher</th>\n",
       "      <th>publicationyear</th>\n",
       "    </tr>\n",
       "  </thead>\n",
       "  <tbody>\n",
       "    <tr>\n",
       "      <th>7356</th>\n",
       "      <td>Physical</td>\n",
       "      <td>Horizon</td>\n",
       "      <td>BOOK</td>\n",
       "      <td>2018</td>\n",
       "      <td>12</td>\n",
       "      <td>585</td>\n",
       "      <td>Past tense / Lee Child.</td>\n",
       "      <td>Child, Lee</td>\n",
       "      <td>Reacher Jack Fictitious character Fiction, Voy...</td>\n",
       "      <td>Delacorte Press,</td>\n",
       "      <td>2018.</td>\n",
       "    </tr>\n",
       "    <tr>\n",
       "      <th>8135</th>\n",
       "      <td>Digital</td>\n",
       "      <td>OverDrive</td>\n",
       "      <td>AUDIOBOOK</td>\n",
       "      <td>2018</td>\n",
       "      <td>12</td>\n",
       "      <td>345</td>\n",
       "      <td>Becoming (Unabridged)</td>\n",
       "      <td>Michelle Obama</td>\n",
       "      <td>African American Nonfiction, Biography &amp; Autob...</td>\n",
       "      <td>Books on Tape</td>\n",
       "      <td>2018</td>\n",
       "    </tr>\n",
       "  </tbody>\n",
       "</table>\n",
       "</div>"
      ],
      "text/plain": [
       "     usageclass checkouttype materialtype  checkoutyear  checkoutmonth  \\\n",
       "7356   Physical      Horizon         BOOK          2018             12   \n",
       "8135    Digital    OverDrive    AUDIOBOOK          2018             12   \n",
       "\n",
       "      checkouts                    title         creator  \\\n",
       "7356        585  Past tense / Lee Child.      Child, Lee   \n",
       "8135        345    Becoming (Unabridged)  Michelle Obama   \n",
       "\n",
       "                                               subjects         publisher  \\\n",
       "7356  Reacher Jack Fictitious character Fiction, Voy...  Delacorte Press,   \n",
       "8135  African American Nonfiction, Biography & Autob...     Books on Tape   \n",
       "\n",
       "     publicationyear  \n",
       "7356           2018.  \n",
       "8135            2018  "
      ]
     },
     "execution_count": 8,
     "metadata": {},
     "output_type": "execute_result"
    }
   ],
   "source": [
    "# Anschließend möchte ich dies nun in Form einer Tabelle haben. \n",
    "\n",
    "checkouts[checkouts[\"checkouts\"] >= 300]"
   ]
  },
  {
   "cell_type": "code",
   "execution_count": 9,
   "metadata": {},
   "outputs": [],
   "source": [
    "# Auch wenn es offensichtlich ist, dass es nur zwei Einträge gibt, möchte ich dies nochmal bestätigt haben.\n",
    "# Dazu setze ich eine neue Variable \"filtered_checkouts\"\n",
    "\n",
    "filtered_checkouts = checkouts[checkouts[\"checkouts\"] >= 300]"
   ]
  },
  {
   "cell_type": "code",
   "execution_count": 10,
   "metadata": {},
   "outputs": [
    {
     "data": {
      "text/plain": [
       "(2, 11)"
      ]
     },
     "execution_count": 10,
     "metadata": {},
     "output_type": "execute_result"
    }
   ],
   "source": [
    "# Mithilfe von \"shape\" bekomme ich nun bestätigt, dass es zwei Einträge gibt, die mehr als 300 mal ausgeliehen wurden.\n",
    "\n",
    "filtered_checkouts.shape"
   ]
  },
  {
   "cell_type": "code",
   "execution_count": 11,
   "metadata": {},
   "outputs": [
    {
     "data": {
      "text/plain": [
       "585"
      ]
     },
     "execution_count": 11,
     "metadata": {},
     "output_type": "execute_result"
    }
   ],
   "source": [
    "# Mit dem Befehl \"max\" finde ich nun außerdem heraus, dass ein Medium 585 mal ausgeliehen wurde - was die höchste Ausleihzahl eines Mediums darstellt.\n",
    "\n",
    "checkouts.checkouts.max()"
   ]
  },
  {
   "cell_type": "code",
   "execution_count": 12,
   "metadata": {},
   "outputs": [
    {
     "data": {
      "text/html": [
       "<div>\n",
       "<style scoped>\n",
       "    .dataframe tbody tr th:only-of-type {\n",
       "        vertical-align: middle;\n",
       "    }\n",
       "\n",
       "    .dataframe tbody tr th {\n",
       "        vertical-align: top;\n",
       "    }\n",
       "\n",
       "    .dataframe thead th {\n",
       "        text-align: right;\n",
       "    }\n",
       "</style>\n",
       "<table border=\"1\" class=\"dataframe\">\n",
       "  <thead>\n",
       "    <tr style=\"text-align: right;\">\n",
       "      <th></th>\n",
       "      <th>usageclass</th>\n",
       "      <th>checkouttype</th>\n",
       "      <th>materialtype</th>\n",
       "      <th>checkoutyear</th>\n",
       "      <th>checkoutmonth</th>\n",
       "      <th>checkouts</th>\n",
       "      <th>title</th>\n",
       "      <th>creator</th>\n",
       "      <th>subjects</th>\n",
       "      <th>publisher</th>\n",
       "      <th>publicationyear</th>\n",
       "    </tr>\n",
       "  </thead>\n",
       "  <tbody>\n",
       "    <tr>\n",
       "      <th>7356</th>\n",
       "      <td>Physical</td>\n",
       "      <td>Horizon</td>\n",
       "      <td>BOOK</td>\n",
       "      <td>2018</td>\n",
       "      <td>12</td>\n",
       "      <td>585</td>\n",
       "      <td>Past tense / Lee Child.</td>\n",
       "      <td>Child, Lee</td>\n",
       "      <td>Reacher Jack Fictitious character Fiction, Voy...</td>\n",
       "      <td>Delacorte Press,</td>\n",
       "      <td>2018.</td>\n",
       "    </tr>\n",
       "  </tbody>\n",
       "</table>\n",
       "</div>"
      ],
      "text/plain": [
       "     usageclass checkouttype materialtype  checkoutyear  checkoutmonth  \\\n",
       "7356   Physical      Horizon         BOOK          2018             12   \n",
       "\n",
       "      checkouts                    title     creator  \\\n",
       "7356        585  Past tense / Lee Child.  Child, Lee   \n",
       "\n",
       "                                               subjects         publisher  \\\n",
       "7356  Reacher Jack Fictitious character Fiction, Voy...  Delacorte Press,   \n",
       "\n",
       "     publicationyear  \n",
       "7356           2018.  "
      ]
     },
     "execution_count": 12,
     "metadata": {},
     "output_type": "execute_result"
    }
   ],
   "source": [
    "# Doch um welches Medium handelt es sich hierbei? Mit dem folgenden Befehl suche ich mir nun den Datensatz in der Spalte Checkouts heraus, der den höchsten Wert hat.\n",
    "\n",
    "checkouts[checkouts[\"checkouts\"] == checkouts.checkouts.max()]"
   ]
  },
  {
   "cell_type": "markdown",
   "metadata": {},
   "source": [
    "## Ergebnis 1. Frage \n",
    "\n",
    "\"Past Tense\" von Lee Child ist das am häufigsten ausgeliehene Medium der Seattle Public Library in dem relevanten Zeitraum."
   ]
  },
  {
   "cell_type": "markdown",
   "metadata": {},
   "source": [
    "## 2. Frage: Wie verändert sich das Ausleihverhalten im Laufe eines Jahres?\n",
    "\n",
    "Hier möchte ich ermitteln, ob das Ausleihverhalten im Laufe des Jahres 2018 konstant war oder von Jahrenzeiten abhängig war. Dafür werde ich eine Grafik erstellen."
   ]
  },
  {
   "cell_type": "code",
   "execution_count": 13,
   "metadata": {},
   "outputs": [
    {
     "data": {
      "text/plain": [
       "<matplotlib.axes._subplots.AxesSubplot at 0x262763cf488>"
      ]
     },
     "execution_count": 13,
     "metadata": {},
     "output_type": "execute_result"
    },
    {
     "data": {
      "image/png": "[encoded data removed]",
      "text/plain": [
       "<Figure size 432x288 with 1 Axes>"
      ]
     },
     "metadata": {
      "needs_background": "light"
     },
     "output_type": "display_data"
    }
   ],
   "source": [
    "# Hierfür wird ein Histogramm geplottet. Dafür wird die Funktion .hist verwendet.\n",
    "\n",
    "checkouts[\"checkoutmonth\"].hist()"
   ]
  },
  {
   "cell_type": "markdown",
   "metadata": {},
   "source": [
    "## Ergebnis 2. Frage\n",
    "\n",
    "Da das Limit der Einträge auf 10.000 gesetzt war, wurden logischerweise alle Ausleihen in der Checkouts-Liste von 2018 im Dezember verortet."
   ]
  },
  {
   "cell_type": "markdown",
   "metadata": {},
   "source": [
    "## 3. Frage: In welchem Verhältnis wurden analoge und digitale Medien in dem relevanten Zeitraum verliehen?\n",
    "\n",
    "In der Liste wird dies in der Spalte \"usageclass\" festgehalten und zwischen \"physical\" und \"digital\" unterschieden."
   ]
  },
  {
   "cell_type": "code",
   "execution_count": 14,
   "metadata": {},
   "outputs": [],
   "source": [
    "# Um ein Kreisdiagramm erstellen zu können, muss ich zuerst die entsprechende Bibliothek matplotlib importieren.\n",
    "\n",
    "import matplotlib.pyplot as plt"
   ]
  },
  {
   "cell_type": "code",
   "execution_count": 15,
   "metadata": {},
   "outputs": [
    {
     "data": {
      "text/plain": [
       "Physical    6411\n",
       "Digital     3589\n",
       "Name: usageclass, dtype: int64"
      ]
     },
     "execution_count": 15,
     "metadata": {},
     "output_type": "execute_result"
    }
   ],
   "source": [
    "# Nun muss ich herausfinden, wie die Verteilung von \"Physical\" und \"Digital\" genau aussieht. \n",
    "# Dazu filtere ich den Datensatz nach \"Physical\" und \"Digital\", indem ich die Funktion value_counts()\" nutze\n",
    "\n",
    "checkouts[\"usageclass\"].value_counts()"
   ]
  },
  {
   "cell_type": "code",
   "execution_count": 16,
   "metadata": {},
   "outputs": [
    {
     "data": {
      "image/png": "[encoded data removed]",
      "text/plain": [
       "<Figure size 432x288 with 1 Axes>"
      ]
     },
     "metadata": {},
     "output_type": "display_data"
    }
   ],
   "source": [
    "# Dieses Ergebnis möchte ich nun in einem Kreisdiagramm darstellen. \n",
    "# Hierfür müssen die einzelnen Parameter wie Label und Farbe definiert werden. \n",
    "# Zuvor erstelle ich jedoch eine neue Variable \"checkouts_frequency\", welche die Werte direkt in das Kreisdiagramm (bei sizes) übertragen.\n",
    "\n",
    "checkout_frequency = checkouts[\"usageclass\"].value_counts()\n",
    "\n",
    "labels = ['Physical', 'Digital']\n",
    "sizes = checkout_frequency\n",
    "colors = ['green', 'red']\n",
    "\n",
    "plt.pie(sizes,              \n",
    "        labels=labels,      \n",
    "        colors=colors,      \n",
    "        autopct='%1.1f%%',  \n",
    "        shadow=True,        \n",
    "        startangle=140)\n",
    "\n",
    "plt.title('Verteilung von \"Physical Objects\" und \"Digital Objects\"')\n",
    "\n",
    "plt.axis('equal')\n",
    "\n",
    "plt.show()"
   ]
  },
  {
   "cell_type": "markdown",
   "metadata": {},
   "source": [
    "## Ergebnis 3. Frage: \n",
    "\n",
    "Wie das Kreisdiagramm veranschaulicht, bestanden 35,9 Prozent der Ausleihen in dem relevanten Zeitraum aus digitalen und 64,1 Prozent der Ausleihen aus analogen Objekten."
   ]
  },
  {
   "cell_type": "markdown",
   "metadata": {},
   "source": [
    "## 4. Frage: Wie sieht die Verteilung in dem relevanten Zeitraum nach \"Materialtype\" aus?\n",
    "\n",
    "In der Liste wird dies in der Spalte \"materialtype\" festgehalten. Dies soll ebenfalls in Form eines Kreisdiagramms dargestellt werden."
   ]
  },
  {
   "cell_type": "code",
   "execution_count": 17,
   "metadata": {},
   "outputs": [
    {
     "data": {
      "text/plain": [
       "BOOK                    4563\n",
       "EBOOK                   2548\n",
       "AUDIOBOOK               1029\n",
       "SOUNDDISC                883\n",
       "VIDEODISC                882\n",
       "MUSIC                     26\n",
       "REGPRINT                  18\n",
       "SOUNDDISC, VIDEODISC      13\n",
       "ER                         7\n",
       "VIDEO                      6\n",
       "MAGAZINE                   6\n",
       "CR                         6\n",
       "SOUNDREC                   5\n",
       "LARGEPRINT                 4\n",
       "MIXED                      2\n",
       "ER, SOUNDDISC              2\n",
       "Name: materialtype, dtype: int64"
      ]
     },
     "execution_count": 17,
     "metadata": {},
     "output_type": "execute_result"
    }
   ],
   "source": [
    "# Zuallererst müssen hier die verschiedenen Arten von \"Materialtype\" und deren Anzahl ermittelt werden.\n",
    "\n",
    "checkouts[\"materialtype\"].value_counts()"
   ]
  },
  {
   "cell_type": "code",
   "execution_count": 18,
   "metadata": {},
   "outputs": [
    {
     "data": {
      "text/plain": [
       "<matplotlib.axes._subplots.AxesSubplot at 0x262766e8b08>"
      ]
     },
     "execution_count": 18,
     "metadata": {},
     "output_type": "execute_result"
    },
    {
     "data": {
      "image/png": "[encoded data removed]",
      "text/plain": [
       "<Figure size 720x720 with 1 Axes>"
      ]
     },
     "metadata": {},
     "output_type": "display_data"
    }
   ],
   "source": [
    "# Es gibt 16 verschiedene Arten von Medien, die in Seattle ausgeliehen werden können. \n",
    "# Diesmal wird keine Variable erstellt, da nicht alle oben ermittelten Werte im Kreisdiagramm dargestellt werden sollen. \n",
    "# Die letzten neun Werte sollen nämlich als \"Sonstiges\" im Kreisdiagramm zu finden sein und werden deshalb zusammengerechnet.\n",
    "# Schlussendlich werden die Parameter für das Kreisdiagramm erstellt.\n",
    "# Diesmal soll die Ergebnisse in Form eines \"explodierten\" Kreisdiagramms dargestellt werden.\n",
    "\n",
    "materialtypes = ['Book', 'Ebook', 'Audiobook', 'Sounddisc', 'Videodisc', 'Music', 'Regprint', 'Sonstige']\n",
    "series = pd.Series([4563, 2548, 1029, 883, 882, 26, 18, 51], \n",
    "                   index=materialtypes, \n",
    "                   name='materialtypes')\n",
    "explode = [0, 0.10, 0.40, 0.5, 0.6, 0.8, 1, 1.5]\n",
    "series.plot.pie(figsize=(10, 10),\n",
    "               explode=explode)"
   ]
  },
  {
   "cell_type": "code",
   "execution_count": 19,
   "metadata": {},
   "outputs": [
    {
     "data": {
      "text/plain": [
       "<matplotlib.axes._subplots.AxesSubplot at 0x262767cdc08>"
      ]
     },
     "execution_count": 19,
     "metadata": {},
     "output_type": "execute_result"
    },
    {
     "data": {
      "image/png": "[encoded data removed]",
      "text/plain": [
       "<Figure size 720x720 with 1 Axes>"
      ]
     },
     "metadata": {
      "needs_background": "light"
     },
     "output_type": "display_data"
    }
   ],
   "source": [
    "# Aber auch ein Säulendiagramm eignet sich für diese Darstellung.\n",
    "\n",
    "materialtypes = ['Book', 'Ebook', 'Audiobook', 'Sounddisc', 'Videodisc', 'Music', 'Regprint', 'Sonstige']\n",
    "series = pd.Series([4563, 2548, 1029, 883, 882, 26, 18, 51], \n",
    "                   index=materialtypes, \n",
    "                   name='materialtypes')\n",
    "series.plot.bar(figsize=(10, 10))"
   ]
  },
  {
   "cell_type": "markdown",
   "metadata": {},
   "source": [
    "## Ergebnis 4. Frage:\n",
    "\n",
    "Ein Großteil der ausgeliehenen Medien in diesem relevanten Zeitraum sind Bücher, mit etwas Abstand darauf folgen Ebooks. Sehr weit dahinter, aber nah beieinander befinden sich schließlich Audiobooks, Sounddiscs und Videodiscs."
   ]
  },
  {
   "cell_type": "markdown",
   "metadata": {},
   "source": [
    "## 5. Frage: Wie hoch ist die Zahl der Gesamtausleihen in dem relevanten Zeitraum?"
   ]
  },
  {
   "cell_type": "code",
   "execution_count": 20,
   "metadata": {},
   "outputs": [
    {
     "data": {
      "text/plain": [
       "34686"
      ]
     },
     "execution_count": 20,
     "metadata": {},
     "output_type": "execute_result"
    }
   ],
   "source": [
    "# Hierfür berechne ich mit dem Befehl \"sum\" die Summe aller Checkouts.\n",
    "\n",
    "checkouts[\"checkouts\"].sum()"
   ]
  },
  {
   "cell_type": "markdown",
   "metadata": {},
   "source": [
    "## Ergebnis 5. Frage: \n",
    "\n",
    "Insgesamt wurden 34.686 Ausleihen in dem relevanten Zeitraum getätigt."
   ]
  }
 ],
 "metadata": {
  "kernelspec": {
   "display_name": "Python 3",
   "language": "python",
   "name": "python3"
  },
  "language_info": {
   "codemirror_mode": {
    "name": "ipython",
    "version": 3
   },
   "file_extension": ".py",
   "mimetype": "text/x-python",
   "name": "python",
   "nbconvert_exporter": "python",
   "pygments_lexer": "ipython3",
   "version": "3.7.6"
  }
 },
 "nbformat": 4,
 "nbformat_minor": 4
}
